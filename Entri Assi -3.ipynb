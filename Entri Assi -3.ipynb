{
 "cells": [
  {
   "cell_type": "code",
   "execution_count": 6,
   "id": "d1db6791-c028-4af1-b713-5e346cb3a165",
   "metadata": {},
   "outputs": [
    {
     "name": "stdin",
     "output_type": "stream",
     "text": [
      "Enter the month:  1\n"
     ]
    },
    {
     "name": "stdout",
     "output_type": "stream",
     "text": [
      "Month 1 is January\n"
     ]
    }
   ],
   "source": [
    "# Exercise 1:\n",
    "month_names = [\"January\", \"February\", \"March\", \"April\", \"May\", \"June\", \"July\", \"August\", \"September\", \"October\", \"November\", \"December\"]\n",
    "month = int(input(\"Enter the month: \"))\n",
    "if 1 <= month <= 12:\n",
    "    print(f\"Month {month} is {month_names[month - 1]}\")\n",
    "else:\n",
    "    print(\"Invalid month!\")"
   ]
  },
  {
   "cell_type": "code",
   "execution_count": 8,
   "id": "25d98fa0-2083-4165-b489-b4c84bfa01cc",
   "metadata": {},
   "outputs": [
    {
     "name": "stdin",
     "output_type": "stream",
     "text": [
      "Enter your age:  20\n"
     ]
    },
    {
     "name": "stdout",
     "output_type": "stream",
     "text": [
      "Your ticket costs £6.00\n"
     ]
    }
   ],
   "source": [
    "# Exercise 2:\n",
    "age = int(input(\"Enter your age: \"))\n",
    "price = 6\n",
    "if age < 16:\n",
    "    price /= 2\n",
    "elif age >= 60:\n",
    "    price /= 3\n",
    "print(f\"Your ticket costs \\u00a3{price:.2f}\")"
   ]
  },
  {
   "cell_type": "code",
   "execution_count": 10,
   "id": "349a3b11-580c-4332-a94e-e1f8480ef3cd",
   "metadata": {},
   "outputs": [
    {
     "name": "stdin",
     "output_type": "stream",
     "text": [
      "Enter your weight in (kg):  62\n",
      "Enter your height in (m):  171\n"
     ]
    },
    {
     "name": "stdout",
     "output_type": "stream",
     "text": [
      "Your BMI is: 0.00\n",
      "You are in the \"Underweight\" range.\n"
     ]
    }
   ],
   "source": [
    "# Exercise 3:\n",
    "weight = float(input(\"Enter your weight in (kg): \"))\n",
    "height = float(input(\"Enter your height in (m): \"))\n",
    "BMI = weight / (height ** 2)\n",
    "if BMI < 18.5:\n",
    "    category = \"Underweight\"\n",
    "elif BMI < 25:\n",
    "    category = \"Normal\"\n",
    "elif BMI < 30:\n",
    "    category = \"Overweight\"\n",
    "else:\n",
    "    category = \"Obese\"\n",
    "print(f\"Your BMI is: {BMI:.2f}\\nYou are in the \\\"{category}\\\" range.\")"
   ]
  },
  {
   "cell_type": "code",
   "execution_count": 16,
   "id": "f9e4b8c3-1ecb-4357-9c00-a403e2fc82e0",
   "metadata": {},
   "outputs": [
    {
     "name": "stdin",
     "output_type": "stream",
     "text": [
      "Enter three numbers:  1 2 4\n"
     ]
    },
    {
     "name": "stdout",
     "output_type": "stream",
     "text": [
      "The greatest number is 4\n"
     ]
    }
   ],
   "source": [
    "# Exercise 4:\n",
    "a, b, c = map(int, input(\"Enter three numbers: \").split())\n",
    "print(f\"The greatest number is {max(a, b, c)}\")"
   ]
  },
  {
   "cell_type": "code",
   "execution_count": 18,
   "id": "097c5cc4-bce6-4c39-b3c8-9284f43ca431",
   "metadata": {},
   "outputs": [
    {
     "name": "stdin",
     "output_type": "stream",
     "text": [
      "Enter a number:  2\n"
     ]
    },
    {
     "name": "stdout",
     "output_type": "stream",
     "text": [
      "Factorial of 2 is 2\n"
     ]
    }
   ],
   "source": [
    "# Exercise 5: \n",
    "num = int(input(\"Enter a number: \"))\n",
    "factorial = 1\n",
    "for i in range(1, num + 1):\n",
    "    factorial *= i\n",
    "print(f\"Factorial of {num} is {factorial}\")"
   ]
  },
  {
   "cell_type": "code",
   "execution_count": 20,
   "id": "5375a731-a17d-419e-920f-67bb90343027",
   "metadata": {},
   "outputs": [
    {
     "name": "stdin",
     "output_type": "stream",
     "text": [
      "Enter a number:  2\n"
     ]
    },
    {
     "name": "stdout",
     "output_type": "stream",
     "text": [
      "Reversed number: 2\n"
     ]
    }
   ],
   "source": [
    "# Exercise 6: \n",
    "num = input(\"Enter a number: \")\n",
    "print(f\"Reversed number: {num[::-1]}\")"
   ]
  },
  {
   "cell_type": "code",
   "execution_count": 22,
   "id": "81bc3303-b174-4870-82ad-beb0041a462c",
   "metadata": {},
   "outputs": [
    {
     "name": "stdin",
     "output_type": "stream",
     "text": [
      "Enter a number:  4\n",
      "Enter the limit:  2\n"
     ]
    },
    {
     "name": "stdout",
     "output_type": "stream",
     "text": [
      "4 8 \n"
     ]
    }
   ],
   "source": [
    "# Exercise 7:\n",
    "num = int(input(\"Enter a number: \"))\n",
    "limit = int(input(\"Enter the limit: \"))\n",
    "for i in range(1, limit + 1):\n",
    "    print(num * i, end=' ')\n",
    "print()"
   ]
  },
  {
   "cell_type": "code",
   "execution_count": 24,
   "id": "b13ddb71-51e3-46e1-98e9-4499dba44892",
   "metadata": {},
   "outputs": [
    {
     "name": "stdin",
     "output_type": "stream",
     "text": [
      ": done\n"
     ]
    },
    {
     "name": "stdout",
     "output_type": "stream",
     "text": [
      "Done\n"
     ]
    }
   ],
   "source": [
    "# Exercise 8:\n",
    "while True:\n",
    "    user_input = input(\":\")\n",
    "    if user_input.lower() == \"done\":\n",
    "        print(\"Done\")\n",
    "        break\n",
    "    print(user_input)"
   ]
  },
  {
   "cell_type": "code",
   "execution_count": 26,
   "id": "48f75caf-612b-4b9e-bbfa-90b27ee09541",
   "metadata": {},
   "outputs": [
    {
     "name": "stdout",
     "output_type": "stream",
     "text": [
      "1\n",
      "2\n",
      "Fizz\n",
      "4\n",
      "Buzz\n",
      "Fizz\n",
      "7\n",
      "8\n",
      "Fizz\n",
      "Buzz\n"
     ]
    }
   ],
   "source": [
    "# Exercise 9:\n",
    "for i in range(1, 11):\n",
    "    if i % 3 == 0 and i % 5 == 0:\n",
    "        print(\"FizzBuzz\")\n",
    "    elif i % 3 == 0:\n",
    "        print(\"Fizz\")\n",
    "    elif i % 5 == 0:\n",
    "        print(\"Buzz\")\n",
    "    else:\n",
    "        print(i)"
   ]
  },
  {
   "cell_type": "code",
   "execution_count": 28,
   "id": "77181f87-ff85-4680-b5c6-e2a9403b4239",
   "metadata": {},
   "outputs": [
    {
     "name": "stdout",
     "output_type": "stream",
     "text": [
      "5 4 3 2 1 \n",
      "4 3 2 1 \n",
      "3 2 1 \n",
      "2 1 \n",
      "1 \n"
     ]
    }
   ],
   "source": [
    "# Exercise 10: Pattern Printing\n",
    "for i in range(5, 0, -1):\n",
    "    for j in range(i, 0, -1):\n",
    "        print(j, end=' ')\n",
    "    print()"
   ]
  },
  {
   "cell_type": "code",
   "execution_count": null,
   "id": "de810576-ba88-44e6-bb0d-532ff16c6545",
   "metadata": {},
   "outputs": [],
   "source": []
  }
 ],
 "metadata": {
  "kernelspec": {
   "display_name": "Python 3 (ipykernel)",
   "language": "python",
   "name": "python3"
  },
  "language_info": {
   "codemirror_mode": {
    "name": "ipython",
    "version": 3
   },
   "file_extension": ".py",
   "mimetype": "text/x-python",
   "name": "python",
   "nbconvert_exporter": "python",
   "pygments_lexer": "ipython3",
   "version": "3.12.7"
  }
 },
 "nbformat": 4,
 "nbformat_minor": 5
}
